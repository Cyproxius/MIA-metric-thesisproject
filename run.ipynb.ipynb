{
 "cells": [
  {
   "cell_type": "code",
   "execution_count": 0,
   "metadata": {
    "application/vnd.databricks.v1+cell": {
     "cellMetadata": {
      "byteLimit": 2048000,
      "rowLimit": 10000
     },
     "inputWidgets": {},
     "nuid": "5625e444-f301-4e28-b9e4-142053513ab7",
     "showTitle": false,
     "title": ""
    },
    "jupyter": {
     "outputs_hidden": true
    }
   },
   "outputs": [],
   "source": [
    "# Install necessary libraries\n",
    "%pip install transformers openai torch tqdm numpy datasets accelerate matplotlib wandb"
   ]
  },
  {
   "cell_type": "code",
   "execution_count": 0,
   "metadata": {
    "application/vnd.databricks.v1+cell": {
     "cellMetadata": {
      "byteLimit": 2048000,
      "rowLimit": 10000
     },
     "inputWidgets": {},
     "nuid": "c31a9ade-c736-4970-82c5-05e0aa15a0d2",
     "showTitle": false,
     "title": ""
    },
    "jupyter": {
     "outputs_hidden": true
    }
   },
   "outputs": [],
   "source": [
    "# Imports\n",
    "import logging\n",
    "logging.basicConfig(level='ERROR')\n",
    "import numpy as np\n",
    "from pathlib import Path\n",
    "# import openai\n",
    "import torch\n",
    "import zlib\n",
    "import os\n",
    "from transformers import AutoTokenizer, AutoModelForCausalLM, AutoConfig, AutoModel\n",
    "from tqdm import tqdm\n",
    "import numpy as np\n",
    "from datasets import load_dataset\n",
    "from eval import *\n",
    "from experiment_utils import *\n",
    "from model_utils import *\n",
    "from unlearning import *\n",
    "from accelerate import init_empty_weights, infer_auto_device_map"
   ]
  },
  {
   "cell_type": "code",
   "execution_count": 0,
   "metadata": {
    "application/vnd.databricks.v1+cell": {
     "cellMetadata": {
      "byteLimit": 2048000,
      "rowLimit": 10000
     },
     "inputWidgets": {},
     "nuid": "da024cd4-fe38-45c0-a0c7-e6543561d7a4",
     "showTitle": false,
     "title": ""
    }
   },
   "outputs": [],
   "source": [
    "model = 'EleutherAI/pythia-2.8b'\n",
    "output_dir = f\"experiment_output/{model}\"\n",
    "if not os.path.exists(output_dir):\n",
    "    os.makedirs(output_dir, exist_ok=True)\n",
    "\n",
    "experiment_args = ExperimentArgs(\n",
    "        model = model,\n",
    "        output_dir = output_dir,\n",
    "        # Directory in which to store models locally (to prevent having to download for each experiment)\n",
    "        model_dir_prefix = \"/dbfs/mnt/ds-data-apps/maris/base_models_dupe/\",\n",
    "        input_name = 'input',\n",
    "        label_name = 'label',\n",
    "        data = 'swj0419/WikiMIA',\n",
    "        data_name = 'WikiMIA',\n",
    "        length = 128\n",
    "    )\n",
    "\n",
    "unlearning_args = UnlearningArgs(\n",
    "        lr=3e-6,\n",
    "        steps = 4,\n",
    "        batch_size = 16,\n",
    "        include_learning = False,\n",
    "        metric = 'All', # Choose from PPL, Min_K, Min_K++ or All\n",
    "        num_repeats = 1\n",
    "    )\n",
    "\n",
    "Path(output_dir).mkdir(parents=True, exist_ok=True)"
   ]
  },
  {
   "cell_type": "code",
   "execution_count": 0,
   "metadata": {
    "application/vnd.databricks.v1+cell": {
     "cellMetadata": {
      "byteLimit": 2048000,
      "rowLimit": 10000
     },
     "inputWidgets": {},
     "nuid": "9154f463-d5ce-4ee8-b247-f565dde77a8e",
     "showTitle": false,
     "title": ""
    }
   },
   "outputs": [],
   "source": [
    "lrs = [3e-6]\n",
    "steps = [3]\n",
    "batch_sizes = [16]\n",
    "experiment2 = Experiment(experiment_args, unlearning_args)\n",
    "experiment2.run_gridsearch(lrs,steps,batch_sizes)"
   ]
  },
  {
   "cell_type": "code",
   "execution_count": 0,
   "metadata": {
    "application/vnd.databricks.v1+cell": {
     "cellMetadata": {
      "byteLimit": 2048000,
      "rowLimit": 10000
     },
     "inputWidgets": {},
     "nuid": "5676388e-6715-477b-b8ab-e75d0218066c",
     "showTitle": false,
     "title": ""
    }
   },
   "outputs": [],
   "source": [
    "import json\n",
    "import matplotlib.pyplot as plt\n",
    "graph_dir = output_dir + '/graphs/'\n",
    "if not os.path.exists(graph_dir):\n",
    "  os.makedirs(graph_dir)\n",
    "\n",
    "i = 1\n",
    "# Load JSON data from the file\n",
    "with open(f'{output_dir}/{experiment_args.data_name}_length{experiment_args.length}_grid_search_{i}.json', 'r') as file:\n",
    "    data = json.load(file)\n",
    "\n",
    "metrics = [metric for metric in data[0].keys() if metric != 'params']\n",
    "\n",
    "# Extract steps and corresponding MIM_AUC values\n",
    "steps = [entry['params']['steps'] for entry in data]\n",
    "\n",
    "all_metric_means = {metric: [entry[metric]['mean'] for entry in data] for metric in metrics}\n",
    "all_metric_stds = {metric: [entry[metric]['std'] for entry in data] for metric in metrics}\n",
    "\n",
    "# Plot the data\n",
    "plt.figure(figsize=(10, 6))\n",
    "for metric, result in all_metric_means.items():\n",
    "    plt.errorbar(steps, result, yerr=all_metric_stds[metric], label=metric, marker='o')\n",
    "\n",
    "# Add titles and labels\n",
    "plt.title('Gradient ascent-based membership inference')\n",
    "plt.xlabel('Steps')\n",
    "plt.ylabel('MIM AUC')\n",
    "plt.legend()\n",
    "\n",
    "# Show the plot\n",
    "plt.grid(True)\n",
    "# plt.savefig(graph_dir+f'metrics_vs_ULsteps_grid_search_{i}.png')\n",
    "plt.savefig(graph_dir+f'{experiment_args.data_name}_length{experiment_args.length}_{unlearning_args.metric}.png')"
   ]
  },
  {
   "cell_type": "code",
   "execution_count": 0,
   "metadata": {
    "application/vnd.databricks.v1+cell": {
     "cellMetadata": {
      "byteLimit": 2048000,
      "rowLimit": 10000
     },
     "inputWidgets": {},
     "nuid": "36185033-7152-4152-b6e1-dbe3b2bd725a",
     "showTitle": false,
     "title": ""
    }
   },
   "outputs": [],
   "source": [
    "# sentence = \"The quick brown fox jumped over the lazy dog\"\n",
    "# sentence_encode = tokenizer.encode(sentence)\n",
    "# PPL = calculatePerplexity(sentence_encode, base_model, tokenizer, unlearning_args.device)\n",
    "# print(f\"PPL: {PPL}\")"
   ]
  },
  {
   "cell_type": "code",
   "execution_count": 0,
   "metadata": {
    "application/vnd.databricks.v1+cell": {
     "cellMetadata": {
      "byteLimit": 2048000,
      "rowLimit": 10000
     },
     "inputWidgets": {},
     "nuid": "4cbaca3d-1bc6-4b34-91d9-6c134f02f52e",
     "showTitle": false,
     "title": ""
    }
   },
   "outputs": [],
   "source": []
  }
 ],
 "metadata": {
  "application/vnd.databricks.v1+notebook": {
   "dashboards": [],
   "environmentMetadata": null,
   "language": "python",
   "notebookMetadata": {
    "pythonIndentUnit": 2
   },
   "notebookName": "run.ipynb",
   "widgets": {}
  }
 },
 "nbformat": 4,
 "nbformat_minor": 0
}
